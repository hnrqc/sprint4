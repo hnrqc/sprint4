{
 "cells": [
  {
   "cell_type": "markdown",
   "id": "72a3c6ff",
   "metadata": {},
   "source": [
    "## Testando conexão com AWS "
   ]
  },
  {
   "cell_type": "code",
   "execution_count": 1,
   "id": "0063048b",
   "metadata": {},
   "outputs": [],
   "source": [
    "#importando as bibliotecas\n",
    "import psycopg2\n",
    "import pandas as pd"
   ]
  },
  {
   "cell_type": "code",
   "execution_count": 2,
   "id": "54b0400e",
   "metadata": {},
   "outputs": [],
   "source": [
    "conn = psycopg2.connect(\"dbname='postgres' user='admin' host='ec2-3-144-245-96.us-east-2.compute.amazonaws.com' password='admin' port=5432\")"
   ]
  },
  {
   "cell_type": "code",
   "execution_count": 3,
   "id": "69bea0b3",
   "metadata": {},
   "outputs": [],
   "source": [
    "cur = conn.cursor() "
   ]
  },
  {
   "cell_type": "code",
   "execution_count": null,
   "id": "7c8e55db",
   "metadata": {},
   "outputs": [],
   "source": [
    "cur.execute(\"select * from response\")"
   ]
  },
  {
   "cell_type": "code",
   "execution_count": null,
   "id": "9a07335a",
   "metadata": {},
   "outputs": [],
   "source": [
    "resultado = cur.fetchall()"
   ]
  },
  {
   "cell_type": "code",
   "execution_count": null,
   "id": "ad17195f",
   "metadata": {},
   "outputs": [],
   "source": [
    "for res in resultado:\n",
    "    print(res)"
   ]
  },
  {
   "cell_type": "code",
   "execution_count": null,
   "id": "f1cc1843",
   "metadata": {},
   "outputs": [],
   "source": []
  }
 ],
 "metadata": {
  "kernelspec": {
   "display_name": "Python 3 (ipykernel)",
   "language": "python",
   "name": "python3"
  },
  "language_info": {
   "codemirror_mode": {
    "name": "ipython",
    "version": 3
   },
   "file_extension": ".py",
   "mimetype": "text/x-python",
   "name": "python",
   "nbconvert_exporter": "python",
   "pygments_lexer": "ipython3",
   "version": "3.9.7"
  }
 },
 "nbformat": 4,
 "nbformat_minor": 5
}
